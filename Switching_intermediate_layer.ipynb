{
  "nbformat": 4,
  "nbformat_minor": 0,
  "metadata": {
    "colab": {
      "name": "Switching_intermediate_layer.ipynb",
      "provenance": [],
      "collapsed_sections": [],
      "authorship_tag": "ABX9TyPJR6+MkeIIGCSS8XiXudPo",
      "include_colab_link": true
    },
    "kernelspec": {
      "name": "python3",
      "display_name": "Python 3"
    }
  },
  "cells": [
    {
      "cell_type": "markdown",
      "metadata": {
        "id": "view-in-github",
        "colab_type": "text"
      },
      "source": [
        "<a href=\"https://colab.research.google.com/github/jadevaibhav/TF-keras_model_edit/blob/master/Switching_intermediate_layer.ipynb\" target=\"_parent\"><img src=\"https://colab.research.google.com/assets/colab-badge.svg\" alt=\"Open In Colab\"/></a>"
      ]
    },
    {
      "cell_type": "code",
      "metadata": {
        "id": "qLzIiFPbwQsd",
        "colab_type": "code",
        "colab": {}
      },
      "source": [
        "import tensorflow as tf\n",
        "import tensorflow_addons as tfa"
      ],
      "execution_count": null,
      "outputs": []
    },
    {
      "cell_type": "code",
      "metadata": {
        "id": "1j_UivGewneh",
        "colab_type": "code",
        "colab": {
          "base_uri": "https://localhost:8080/",
          "height": 52
        },
        "outputId": "93788d53-c528-4ae5-e290-def49950bbef"
      },
      "source": [
        "xception = tf.keras.applications.xception.Xception(include_top=False, weights='imagenet',input_shape=(224,224,3))\n",
        "#xception.summary()"
      ],
      "execution_count": null,
      "outputs": [
        {
          "output_type": "stream",
          "text": [
            "Downloading data from https://storage.googleapis.com/tensorflow/keras-applications/xception/xception_weights_tf_dim_ordering_tf_kernels_notop.h5\n",
            "83689472/83683744 [==============================] - 1s 0us/step\n"
          ],
          "name": "stdout"
        }
      ]
    },
    {
      "cell_type": "markdown",
      "metadata": {
        "id": "cNegVeAyzTzR",
        "colab_type": "text"
      },
      "source": [
        "**To edit a particular type of layer throughout architecture is difficult task for non-linear models. As the all inbound and outbound node connections of the graph need to be changed. To facilitate this, I have demonstrated the method with use case of switching the batch normilization layer with instance normalization layer. I am recreating the model using existing graphs and storing the outputs in dictionary with key-value pair as previous outbound node with new one.  **"
      ]
    },
    {
      "cell_type": "code",
      "metadata": {
        "id": "rV3tV-D-wWbZ",
        "colab_type": "code",
        "colab": {}
      },
      "source": [
        "def xcp_edit():\n",
        "\n",
        "  out_layer = {}\n",
        "  x = xception.input \n",
        "\n",
        "  out_layer[xception.layers[0].output.name] = x\n",
        "  for i in range(1,len(xception.layers[1:])):\n",
        "    layer = xception.layers[i]\n",
        "    if layer.name[-2:] == \"bn\" or layer.name[:19]==\"batch_normalization\":\n",
        "      #print(\"InstNorm here\")\n",
        "      #print(layer.input.name,out_layer[layer.input.name].name)\n",
        "      x = out_layer[layer.input.name]\n",
        "      x = tfa.layers.InstanceNormalization()(x)\n",
        "      out_layer[layer.output.name] = x\n",
        "    else:\n",
        "      #print(layer.name)\n",
        "     \n",
        "      if isinstance(layer.input, list):\n",
        "        in_l = []\n",
        "        for inp in layer.input:\n",
        "          in_l.append(out_layer[inp.name])\n",
        "        x = layer(in_l)\n",
        "        out_layer[layer.output.name] = x\n",
        "      else:\n",
        "        #print(layer.input.name,out_layer[layer.input.name].name)\n",
        "        x = layer(out_layer[layer.input.name])\n",
        "        out_layer[layer.output.name] = x  \n",
        "\n",
        "  model = tf.keras.Model(inputs=xception.input,outputs=x)\n",
        "  #model.trainable = False\n",
        "  model.summary()\n",
        "  return model"
      ],
      "execution_count": null,
      "outputs": []
    },
    {
      "cell_type": "code",
      "metadata": {
        "id": "tLRbjtjSyqc-",
        "colab_type": "code",
        "colab": {}
      },
      "source": [
        "model = xcp_edit()"
      ],
      "execution_count": null,
      "outputs": []
    },
    {
      "cell_type": "code",
      "metadata": {
        "id": "k8bJbpkOy3ak",
        "colab_type": "code",
        "colab": {}
      },
      "source": [
        "xception.summary()"
      ],
      "execution_count": null,
      "outputs": []
    },
    {
      "cell_type": "markdown",
      "metadata": {
        "id": "bBjP2qol0jBV",
        "colab_type": "text"
      },
      "source": [
        "**Another usecase of switching conv layers with seperable conv layers in DenseNet architecture. The architecture has one 1x1 conv and one 3x3 conv, we will replace only 3x3 conv op. With this switch, we go from 7 mil to 5 mil parameters. Downside is, these sep conv weights are randomly intiated, hence retraining is required.**"
      ]
    },
    {
      "cell_type": "code",
      "metadata": {
        "id": "-sW8uEbH0Fd-",
        "colab_type": "code",
        "colab": {}
      },
      "source": [
        "dense = tf.keras.applications.densenet.DenseNet121(include_top=False, weights='imagenet',input_shape=(224,224,3))"
      ],
      "execution_count": null,
      "outputs": []
    },
    {
      "cell_type": "code",
      "metadata": {
        "id": "ZEZQZu7N1890",
        "colab_type": "code",
        "colab": {}
      },
      "source": [
        "dense.summary()"
      ],
      "execution_count": null,
      "outputs": []
    },
    {
      "cell_type": "code",
      "metadata": {
        "id": "xpHoMJZN2L1v",
        "colab_type": "code",
        "colab": {}
      },
      "source": [
        "dense.get_layer('conv5_block16_2_conv').get_config()"
      ],
      "execution_count": null,
      "outputs": []
    },
    {
      "cell_type": "code",
      "metadata": {
        "id": "QmY3rQFD1A3q",
        "colab_type": "code",
        "colab": {}
      },
      "source": [
        "def dense_edit():\n",
        "\n",
        "  out_layer = {}\n",
        "  x = dense.input \n",
        "\n",
        "  out_layer[dense.layers[0].output.name] = x\n",
        "  for i in range(1,len(dense.layers[1:])):\n",
        "    layer = dense.layers[i]\n",
        "    if layer.name[-7:] == \"_2_conv\":\n",
        "      #print(\"InstNorm here\")\n",
        "      #print(layer.input.name,out_layer[layer.input.name].name)\n",
        "      x = out_layer[layer.input.name]\n",
        "      x = tf.keras.layers.SeparableConv2D(32,(3,3),padding='same')(x)\n",
        "      out_layer[layer.output.name] = x\n",
        "    else:\n",
        "      #print(layer.name)\n",
        "     \n",
        "      if isinstance(layer.input, list):\n",
        "        in_l = []\n",
        "        for inp in layer.input:\n",
        "          in_l.append(out_layer[inp.name])\n",
        "        x = layer(in_l)\n",
        "        out_layer[layer.output.name] = x\n",
        "      else:\n",
        "        #print(layer.input.name,out_layer[layer.input.name].name)\n",
        "        x = layer(out_layer[layer.input.name])\n",
        "        out_layer[layer.output.name] = x  \n",
        "\n",
        "  model = tf.keras.Model(inputs=dense.input,outputs=x)\n",
        "\n",
        "  model.summary()\n",
        "  return model\n",
        "         "
      ],
      "execution_count": null,
      "outputs": []
    },
    {
      "cell_type": "code",
      "metadata": {
        "id": "FfxPpivR3NQC",
        "colab_type": "code",
        "colab": {}
      },
      "source": [
        "dense_model = dense_edit()"
      ],
      "execution_count": null,
      "outputs": []
    },
    {
      "cell_type": "code",
      "metadata": {
        "id": "hnIrdXkI3R67",
        "colab_type": "code",
        "colab": {}
      },
      "source": [
        ""
      ],
      "execution_count": null,
      "outputs": []
    }
  ]
}